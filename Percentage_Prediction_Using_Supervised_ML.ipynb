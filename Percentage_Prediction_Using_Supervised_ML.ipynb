{
  "nbformat": 4,
  "nbformat_minor": 0,
  "metadata": {
    "colab": {
      "name": "Percentage Prediction Using Supervised ML.ipynb",
      "provenance": [],
      "collapsed_sections": [],
      "authorship_tag": "ABX9TyObYticcV+q3lJJTil/3Os1",
      "include_colab_link": true
    },
    "kernelspec": {
      "name": "python3",
      "display_name": "Python 3"
    },
    "language_info": {
      "name": "python"
    }
  },
  "cells": [
    {
      "cell_type": "markdown",
      "metadata": {
        "id": "view-in-github",
        "colab_type": "text"
      },
      "source": [
        "<a href=\"https://colab.research.google.com/github/azibfarooq/Spark-Foundation-Internship/blob/main/Percentage_Prediction_Using_Supervised_ML.ipynb\" target=\"_parent\"><img src=\"https://colab.research.google.com/assets/colab-badge.svg\" alt=\"Open In Colab\"/></a>"
      ]
    },
    {
      "cell_type": "markdown",
      "metadata": {
        "id": "1SAcXXbSQdSm"
      },
      "source": [
        "# Percentage Prediction Using Supervised ML\n",
        "## Linear Regression Analysis\n",
        "### Azib Farooq\n",
        "This task is dedicated to predict percentage scores of the students on the basis of hours studied. Step by Step implementation of the code is being discussed in the following notebook with comment at necessary blocks. \n",
        "\n",
        "In this problem our independent or input variable is hours studied (X) and dependent or output variable is percentage score obtained (Y). \n"
      ]
    },
    {
      "cell_type": "code",
      "metadata": {
        "colab": {
          "base_uri": "https://localhost:8080/"
        },
        "id": "FjNzPJ47BB4S",
        "outputId": "eb244610-7998-4dd0-e78f-39a088725896"
      },
      "source": [
        "#Importing necessary libraries\n",
        "import numpy as np\n",
        "import pandas as pd\n",
        "import matplotlib.pyplot as plt\n",
        "%matplotlib inline\n",
        "\n",
        "print(\"Import Success\")"
      ],
      "execution_count": 2,
      "outputs": [
        {
          "output_type": "stream",
          "text": [
            "Import Success\n"
          ],
          "name": "stdout"
        }
      ]
    },
    {
      "cell_type": "code",
      "metadata": {
        "colab": {
          "base_uri": "https://localhost:8080/",
          "height": 212
        },
        "id": "8QrPKy7ACZfZ",
        "outputId": "cd67fe5d-e18f-46bd-be15-6ba08fc933a5"
      },
      "source": [
        "#Fetching Data from url\n",
        "url = \"http://bit.ly/w-data\"\n",
        "r_data = pd.read_csv(url)\n",
        "print(\"Data Imported in r_data\")\n",
        "r_data.head()"
      ],
      "execution_count": 3,
      "outputs": [
        {
          "output_type": "stream",
          "text": [
            "Data Imported in r_data\n"
          ],
          "name": "stdout"
        },
        {
          "output_type": "execute_result",
          "data": {
            "text/html": [
              "<div>\n",
              "<style scoped>\n",
              "    .dataframe tbody tr th:only-of-type {\n",
              "        vertical-align: middle;\n",
              "    }\n",
              "\n",
              "    .dataframe tbody tr th {\n",
              "        vertical-align: top;\n",
              "    }\n",
              "\n",
              "    .dataframe thead th {\n",
              "        text-align: right;\n",
              "    }\n",
              "</style>\n",
              "<table border=\"1\" class=\"dataframe\">\n",
              "  <thead>\n",
              "    <tr style=\"text-align: right;\">\n",
              "      <th></th>\n",
              "      <th>Hours</th>\n",
              "      <th>Scores</th>\n",
              "    </tr>\n",
              "  </thead>\n",
              "  <tbody>\n",
              "    <tr>\n",
              "      <th>0</th>\n",
              "      <td>2.5</td>\n",
              "      <td>21</td>\n",
              "    </tr>\n",
              "    <tr>\n",
              "      <th>1</th>\n",
              "      <td>5.1</td>\n",
              "      <td>47</td>\n",
              "    </tr>\n",
              "    <tr>\n",
              "      <th>2</th>\n",
              "      <td>3.2</td>\n",
              "      <td>27</td>\n",
              "    </tr>\n",
              "    <tr>\n",
              "      <th>3</th>\n",
              "      <td>8.5</td>\n",
              "      <td>75</td>\n",
              "    </tr>\n",
              "    <tr>\n",
              "      <th>4</th>\n",
              "      <td>3.5</td>\n",
              "      <td>30</td>\n",
              "    </tr>\n",
              "  </tbody>\n",
              "</table>\n",
              "</div>"
            ],
            "text/plain": [
              "   Hours  Scores\n",
              "0    2.5      21\n",
              "1    5.1      47\n",
              "2    3.2      27\n",
              "3    8.5      75\n",
              "4    3.5      30"
            ]
          },
          "metadata": {
            "tags": []
          },
          "execution_count": 3
        }
      ]
    },
    {
      "cell_type": "code",
      "metadata": {
        "colab": {
          "base_uri": "https://localhost:8080/",
          "height": 295
        },
        "id": "R_3s4b1qDFts",
        "outputId": "fb573dc6-9601-4c1a-a25f-bb44ea8dba0a"
      },
      "source": [
        "# Plotting the imported data to get idea about its \n",
        "# distribution which will assist in choosing the appropriate mode\n",
        "r_data.plot(x = 'Hours', y = 'Scores', style = 'o')\n",
        "plt.title('Hours Vs Scores Plot')\n",
        "plt.xlabel('Hours Studied')\n",
        "plt.ylabel('Percentage Score')\n",
        "plt.show()\n"
      ],
      "execution_count": 6,
      "outputs": [
        {
          "output_type": "display_data",
          "data": {
            "image/png": "[encoded data removed]",
            "text/plain": [
              "<Figure size 432x288 with 1 Axes>"
            ]
          },
          "metadata": {
            "tags": [],
            "needs_background": "light"
          }
        }
      ]
    },
    {
      "cell_type": "code",
      "metadata": {
        "colab": {
          "base_uri": "https://localhost:8080/"
        },
        "id": "oUIMYPVBEUjp",
        "outputId": "5ddf3425-9488-4120-da5d-7ad8596c53e5"
      },
      "source": [
        "#Divide the data into output(Y) and input(X)\n",
        "X = r_data.iloc[:, :-1].values\n",
        "Y = r_data.iloc[:,1].values\n",
        "\n",
        "print('Data divided as output(Y) and input(X)')"
      ],
      "execution_count": 8,
      "outputs": [
        {
          "output_type": "stream",
          "text": [
            "Data divided as output(Y) and input(X)\n"
          ],
          "name": "stdout"
        }
      ]
    },
    {
      "cell_type": "code",
      "metadata": {
        "colab": {
          "base_uri": "https://localhost:8080/"
        },
        "id": "3Dn3ZwwJFDY8",
        "outputId": "2c3fba3c-2ca1-4571-a103-632d958a22ad"
      },
      "source": [
        "#Segregate data for training and testing\n",
        "from sklearn.model_selection import train_test_split\n",
        "X_train, X_test, Y_train, Y_test = train_test_split(X, Y,\n",
        "                                                    test_size = 0.2,\n",
        "                                                    random_state = 0)\n",
        "print('Data splitted for testing and training')"
      ],
      "execution_count": 9,
      "outputs": [
        {
          "output_type": "stream",
          "text": [
            "Data splitted for testing and training\n"
          ],
          "name": "stdout"
        }
      ]
    },
    {
      "cell_type": "code",
      "metadata": {
        "colab": {
          "base_uri": "https://localhost:8080/"
        },
        "id": "znwAgpxLF7J6",
        "outputId": "c9dcf83c-4b7c-43b3-95f8-47cfa45c233d"
      },
      "source": [
        "#Train the model as all pre-requisites are accomplished\n",
        "#we will use linear regression after getting visual view of the data\n",
        "from sklearn.linear_model import LinearRegression\n",
        "regressor = LinearRegression()\n",
        "regressor.fit(X_train, Y_train)\n",
        "\n",
        "print('Training Accomplished')"
      ],
      "execution_count": 10,
      "outputs": [
        {
          "output_type": "stream",
          "text": [
            "Training Accomplished\n"
          ],
          "name": "stdout"
        }
      ]
    },
    {
      "cell_type": "code",
      "metadata": {
        "colab": {
          "base_uri": "https://localhost:8080/",
          "height": 265
        },
        "id": "tj7DtM1uGr2z",
        "outputId": "34cfadac-666b-4775-fe80-d5c3e68b29a4"
      },
      "source": [
        "#plotting trend line of regression analysis\n",
        "trend_line = regressor.coef_*X + regressor.intercept_\n",
        "plt.scatter(X,Y)\n",
        "plt.plot(X,trend_line)\n",
        "plt.show()"
      ],
      "execution_count": 13,
      "outputs": [
        {
          "output_type": "display_data",
          "data": {
            "image/png": "[encoded data removed]",
            "text/plain": [
              "<Figure size 432x288 with 1 Axes>"
            ]
          },
          "metadata": {
            "tags": [],
            "needs_background": "light"
          }
        }
      ]
    },
    {
      "cell_type": "code",
      "metadata": {
        "colab": {
          "base_uri": "https://localhost:8080/"
        },
        "id": "NNUW5TVSHtax",
        "outputId": "9cdcf948-dd68-4fb9-d0a4-2177360d7068"
      },
      "source": [
        "print(X_test) #Testing data\n",
        "y_pred = regressor.predict(X_test)\n",
        "print('Output predicted : Success')"
      ],
      "execution_count": 15,
      "outputs": [
        {
          "output_type": "stream",
          "text": [
            "[[1.5]\n",
            " [3.2]\n",
            " [7.4]\n",
            " [2.5]\n",
            " [5.9]]\n",
            "Output predicted : Success\n"
          ],
          "name": "stdout"
        }
      ]
    },
    {
      "cell_type": "code",
      "metadata": {
        "colab": {
          "base_uri": "https://localhost:8080/",
          "height": 195
        },
        "id": "rX6tpCzhIhVu",
        "outputId": "24839585-7ce7-451e-8db7-225618e4a92d"
      },
      "source": [
        "#Comparing predicted output with the actual output (Y_test)\n",
        "df = pd.DataFrame({'Actual': Y_test,'Predicted':y_pred})\n",
        "df\n"
      ],
      "execution_count": 17,
      "outputs": [
        {
          "output_type": "execute_result",
          "data": {
            "text/html": [
              "<div>\n",
              "<style scoped>\n",
              "    .dataframe tbody tr th:only-of-type {\n",
              "        vertical-align: middle;\n",
              "    }\n",
              "\n",
              "    .dataframe tbody tr th {\n",
              "        vertical-align: top;\n",
              "    }\n",
              "\n",
              "    .dataframe thead th {\n",
              "        text-align: right;\n",
              "    }\n",
              "</style>\n",
              "<table border=\"1\" class=\"dataframe\">\n",
              "  <thead>\n",
              "    <tr style=\"text-align: right;\">\n",
              "      <th></th>\n",
              "      <th>Actual</th>\n",
              "      <th>Predicted</th>\n",
              "    </tr>\n",
              "  </thead>\n",
              "  <tbody>\n",
              "    <tr>\n",
              "      <th>0</th>\n",
              "      <td>20</td>\n",
              "      <td>16.884145</td>\n",
              "    </tr>\n",
              "    <tr>\n",
              "      <th>1</th>\n",
              "      <td>27</td>\n",
              "      <td>33.732261</td>\n",
              "    </tr>\n",
              "    <tr>\n",
              "      <th>2</th>\n",
              "      <td>69</td>\n",
              "      <td>75.357018</td>\n",
              "    </tr>\n",
              "    <tr>\n",
              "      <th>3</th>\n",
              "      <td>30</td>\n",
              "      <td>26.794801</td>\n",
              "    </tr>\n",
              "    <tr>\n",
              "      <th>4</th>\n",
              "      <td>62</td>\n",
              "      <td>60.491033</td>\n",
              "    </tr>\n",
              "  </tbody>\n",
              "</table>\n",
              "</div>"
            ],
            "text/plain": [
              "   Actual  Predicted\n",
              "0      20  16.884145\n",
              "1      27  33.732261\n",
              "2      69  75.357018\n",
              "3      30  26.794801\n",
              "4      62  60.491033"
            ]
          },
          "metadata": {
            "tags": []
          },
          "execution_count": 17
        }
      ]
    },
    {
      "cell_type": "code",
      "metadata": {
        "colab": {
          "base_uri": "https://localhost:8080/"
        },
        "id": "9F9ZcB6gJGC3",
        "outputId": "f62f86c2-c2b1-4026-a651-64788bcb8e3e"
      },
      "source": [
        "#checking model with custom data\n",
        "hours = 9.25\n",
        "precentage = regressor.predict(np.array(hours).reshape(1,1))\n",
        "print(\"Hours Studied : {}\".format(hours))\n",
        "print(\"Predicted Percentage : {}\".format(precentage[0]))"
      ],
      "execution_count": 26,
      "outputs": [
        {
          "output_type": "stream",
          "text": [
            "Hours Studied : 9.25\n",
            "Predicted Percentage : 93.69173248737539\n"
          ],
          "name": "stdout"
        }
      ]
    },
    {
      "cell_type": "code",
      "metadata": {
        "colab": {
          "base_uri": "https://localhost:8080/"
        },
        "id": "N76vWObqLpbw",
        "outputId": "9b3450eb-ce84-463c-ed5d-1f5843402798"
      },
      "source": [
        "#Check Model performance \n",
        "from sklearn import metrics\n",
        "print('Mean absolute error : ',\n",
        "      metrics.mean_absolute_error(Y_test,y_pred))"
      ],
      "execution_count": 27,
      "outputs": [
        {
          "output_type": "stream",
          "text": [
            "Mean absolute error :  4.183859899002982\n"
          ],
          "name": "stdout"
        }
      ]
    }
  ]
}